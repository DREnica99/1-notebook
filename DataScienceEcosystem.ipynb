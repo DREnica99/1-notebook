{
 "cells": [
  {
   "cell_type": "markdown",
   "id": "cba00b91-705f-4f2b-88d9-3e603bf0e30c",
   "metadata": {},
   "source": [
    "# Data Science Tools and Ecosystem "
   ]
  },
  {
   "cell_type": "markdown",
   "id": "8b2b69c8-de37-4b81-9d3a-f094d4868f1b",
   "metadata": {},
   "source": [
    "# In this notebook, Data Science Tools and Ecosystem are summarized."
   ]
  },
  {
   "cell_type": "markdown",
   "id": "7ff3a577-7767-4dfc-8c68-6e99c1732379",
   "metadata": {},
   "source": [
    "**Objectives:**\n",
    "- List popular languages for Data Science\n",
    "- Identify commonly used libraries for Data Science\n",
    "- Understand development environment tools\n",
    "- Execute basic arithmetic expressions in Python\n",
    "- Convert minutes into hours using Python"
   ]
  },
  {
   "cell_type": "markdown",
   "id": "d9f7c1e3-330c-4571-8eeb-cc642f863ef6",
   "metadata": {},
   "source": [
    "# Some of the popular languages that Data Scientists use are:\n",
    "\n",
    "1. Python\n",
    "2. R\n",
    "3. SQL\n",
    "   "
   ]
  },
  {
   "cell_type": "markdown",
   "id": "d68623c3-f244-4ee7-94ad-b7592834a1f8",
   "metadata": {},
   "source": [
    "# Some of the commonly used libraries used by Data Scientists include:\n",
    "\n",
    "1. Pandas\n",
    "2. NumPy\n",
    "3. Scikit-learn"
   ]
  },
  {
   "cell_type": "markdown",
   "id": "80898c2f-fc4d-40de-8eba-15a466ade68b",
   "metadata": {},
   "source": [
    "# | Data Science Tools |\n",
    "|--------------------|\n",
    "| Jupyter Notebook  |\n",
    "| RStudio          |\n",
    "| Apache Zeppelin  |"
   ]
  },
  {
   "cell_type": "markdown",
   "id": "d8a558eb-0221-4f20-ba7c-7ceb9a71fdd8",
   "metadata": {},
   "source": [
    "### Below are a few examples of evaluating arithmetic expressions in Python."
   ]
  },
  {
   "cell_type": "markdown",
   "id": "272f727d-6441-4436-8ca7-7081a30ade7a",
   "metadata": {},
   "source": [
    "#### This is a simple arithmetic expression to multiply then add integers.\n"
   ]
  },
  {
   "cell_type": "code",
   "execution_count": 2,
   "id": "fc3bd6da-c9d1-4729-b13e-03377db71cbd",
   "metadata": {},
   "outputs": [
    {
     "data": {
      "text/plain": [
       "17"
      ]
     },
     "execution_count": 2,
     "metadata": {},
     "output_type": "execute_result"
    }
   ],
   "source": [
    "(3*4)+5"
   ]
  },
  {
   "cell_type": "markdown",
   "id": "302c5e2f-9850-4661-93b0-a12a21ccad15",
   "metadata": {},
   "source": [
    "#### This will convert 200 minutes to hours by dividing by 60."
   ]
  },
  {
   "cell_type": "code",
   "execution_count": 3,
   "id": "da16237d-ce24-45de-b370-53ec150b38cc",
   "metadata": {},
   "outputs": [
    {
     "data": {
      "text/plain": [
       "3.3333333333333335"
      ]
     },
     "execution_count": 3,
     "metadata": {},
     "output_type": "execute_result"
    }
   ],
   "source": [
    "200 / 60"
   ]
  },
  {
   "cell_type": "markdown",
   "id": "6edb944e-6ece-45d7-8051-84d8af02b239",
   "metadata": {},
   "source": [
    "## Author\n",
    "Drenica H"
   ]
  },
  {
   "cell_type": "code",
   "execution_count": null,
   "id": "a653c5e7-d0d0-4c29-98be-0fbabba2addf",
   "metadata": {},
   "outputs": [],
   "source": []
  }
 ],
 "metadata": {
  "kernelspec": {
   "display_name": "Python 3 (ipykernel)",
   "language": "python",
   "name": "python3"
  },
  "language_info": {
   "codemirror_mode": {
    "name": "ipython",
    "version": 3
   },
   "file_extension": ".py",
   "mimetype": "text/x-python",
   "name": "python",
   "nbconvert_exporter": "python",
   "pygments_lexer": "ipython3",
   "version": "3.12.8"
  }
 },
 "nbformat": 4,
 "nbformat_minor": 5
}
